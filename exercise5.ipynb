{
 "cells": [
  {
   "cell_type": "code",
   "execution_count": 14,
   "metadata": {},
   "outputs": [
    {
     "name": "stdout",
     "output_type": "stream",
     "text": [
      "[1, 2, 3, 5, 8, 13]\n"
     ]
    }
   ],
   "source": [
    "#version1,can also use for() and compare\n",
    "a = [1, 1, 2, 3, 5, 8, 13, 21, 34, 55, 89]\n",
    "b = [1, 2, 3, 4, 5, 6, 7, 8, 9, 10, 11, 12, 13]\n",
    "L=list(x for x in a if x in b )\n",
    "L1=list(set(L))\n",
    "print(L1)"
   ]
  },
  {
   "cell_type": "code",
   "execution_count": 30,
   "metadata": {},
   "outputs": [
    {
     "name": "stdout",
     "output_type": "stream",
     "text": [
      "[96, 46, 20, 60, 85, 28, 29, 8, 86, 95, 45, 55, 39, 73, 3, 75, 88, 41, 42, 97]\n",
      "[83, 96, 6, 44, 18]\n",
      "[96]\n"
     ]
    }
   ],
   "source": [
    "import random\n",
    "max_num=100\n",
    "#num=10\n",
    "num1 = random.randint(1,20)\n",
    "num2 = random.randint(1,20)\n",
    "random1=random.sample(range(1,max_num),num1)\n",
    "random2=random.sample(range(1,max_num),num2)\n",
    "print(random1)\n",
    "print(random2)\n",
    "Lr=list(x for x in random1 if x in random2)\n",
    "Lr1=list(set(Lr))\n",
    "print(Lr1)"
   ]
  },
  {
   "cell_type": "code",
   "execution_count": 32,
   "metadata": {},
   "outputs": [
    {
     "name": "stdout",
     "output_type": "stream",
     "text": [
      "[1, 2, 3, 5, 8, 13]\n"
     ]
    }
   ],
   "source": [
    "print(list(set(a).intersection(set(b))))"
   ]
  },
  {
   "cell_type": "code",
   "execution_count": null,
   "metadata": {
    "collapsed": true
   },
   "outputs": [],
   "source": []
  }
 ],
 "metadata": {
  "kernelspec": {
   "display_name": "Python 3",
   "language": "python",
   "name": "python3"
  },
  "language_info": {
   "codemirror_mode": {
    "name": "ipython",
    "version": 3
   },
   "file_extension": ".py",
   "mimetype": "text/x-python",
   "name": "python",
   "nbconvert_exporter": "python",
   "pygments_lexer": "ipython3",
   "version": "3.5.4"
  }
 },
 "nbformat": 4,
 "nbformat_minor": 2
}
