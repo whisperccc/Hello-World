{
 "cells": [
  {
   "cell_type": "code",
   "execution_count": 1,
   "metadata": {},
   "outputs": [
    {
     "name": "stdout",
     "output_type": "stream",
     "text": [
      "Give me your name: Trayvon\n",
      "Give me your age: 23\n",
      "The year that Trayvon will tern 100 years old is : 2096\n"
     ]
    }
   ],
   "source": [
    "import datetime\n",
    "today = datetime.datetime.now()\n",
    "name = input(\"Give me your name: \")\n",
    "age = int(input(\"Give me your age: \"))\n",
    "age1 = str(today.year + 100 -age )\n",
    "print(\"The year that {} will tern 100 years old is : \".format(name)+age1)"
   ]
  },
  {
   "cell_type": "code",
   "execution_count": 9,
   "metadata": {},
   "outputs": [
    {
     "name": "stdout",
     "output_type": "stream",
     "text": [
      "Give me your age: 12\n",
      "The year that Trayvon will tern 100 years old is : 2107\n",
      "Give me your age: 13\n",
      "The year that Trayvon will tern 100 years old is : 2106\n",
      "Give me your age: 14\n",
      "The year that Trayvon will tern 100 years old is : 2105\n",
      "Give me your age: 15\n",
      "The year that Trayvon will tern 100 years old is : 2104\n",
      "Give me your age: 16\n",
      "The year that Trayvon will tern 100 years old is : 2103\n",
      "Give me your age: 17\n",
      "The year that Trayvon will tern 100 years old is : 2102\n",
      "Give me your age: 18\n",
      "The year that Trayvon will tern 100 years old is : 2101\n",
      "Give me your age: -1\n"
     ]
    }
   ],
   "source": [
    "list=[]\n",
    "num=0\n",
    "while (True):\n",
    "    age = int(input(\"Give me your age: \"))\n",
    "    if age == -1 :\n",
    "        break\n",
    "    age1 = str(today.year + 100 -age )\n",
    "    num=num+1\n",
    "    list.append(age1)\n",
    "    print(\"The year that {} will tern 100 years old is : \".format(name)+age1)"
   ]
  },
  {
   "cell_type": "code",
   "execution_count": 11,
   "metadata": {},
   "outputs": [
    {
     "name": "stdout",
     "output_type": "stream",
     "text": [
      "The year that Trayvon will tern 100 years old is : 2107\n",
      "\n",
      "The year that Trayvon will tern 100 years old is : 2106\n",
      "\n",
      "The year that Trayvon will tern 100 years old is : 2105\n",
      "\n",
      "The year that Trayvon will tern 100 years old is : 2104\n",
      "\n",
      "The year that Trayvon will tern 100 years old is : 2103\n",
      "\n",
      "The year that Trayvon will tern 100 years old is : 2102\n",
      "\n",
      "The year that Trayvon will tern 100 years old is : 2101\n",
      "\n"
     ]
    }
   ],
   "source": [
    "i=0\n",
    "while(i<num):\n",
    "    print(\"The year that {} will tern 100 years old is : \".format(name)+list[i]+'\\n')\n",
    "    i=i+1"
   ]
  },
  {
   "cell_type": "code",
   "execution_count": null,
   "metadata": {
    "collapsed": true
   },
   "outputs": [],
   "source": []
  }
 ],
 "metadata": {
  "kernelspec": {
   "display_name": "Python 3",
   "language": "python",
   "name": "python3"
  },
  "language_info": {
   "codemirror_mode": {
    "name": "ipython",
    "version": 3
   },
   "file_extension": ".py",
   "mimetype": "text/x-python",
   "name": "python",
   "nbconvert_exporter": "python",
   "pygments_lexer": "ipython3",
   "version": "3.5.4"
  }
 },
 "nbformat": 4,
 "nbformat_minor": 2
}
