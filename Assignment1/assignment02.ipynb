{
 "cells": [
  {
   "cell_type": "markdown",
   "metadata": {},
   "source": [
    "# Question 1 (20%)\n",
    "Use only ONE line to print multiples of 5 in [0,100] (Opt1: For loop, Opt2: lambda)"
   ]
  },
  {
   "cell_type": "code",
   "execution_count": 2,
   "metadata": {},
   "outputs": [
    {
     "name": "stdout",
     "output_type": "stream",
     "text": [
      "[0, 5, 10, 15, 20, 25, 30, 35, 40, 45, 50, 55, 60, 65, 70, 75, 80, 85, 90, 95, 100]\n"
     ]
    }
   ],
   "source": [
    "print(list(x for x in range(101) if x%5==0))"
   ]
  },
  {
   "cell_type": "markdown",
   "metadata": {},
   "source": [
    "# Question 2 (25%)\n",
    "* Write a function of Python that requires an argument of a year number, e.g., 2020. \n",
    "* The function is to return the number of days of the argument. \n",
    "* Invalid input should be pointed out \"Invalid input\".\n",
    "* The program should be executed continuously."
   ]
  },
  {
   "cell_type": "code",
   "execution_count": null,
   "metadata": {},
   "outputs": [
    {
     "name": "stdout",
     "output_type": "stream",
     "text": [
      "Give me a year number: 2020\n",
      "366\n",
      "Give me a year number: 2100\n",
      "365\n",
      "Give me a year number: 2000\n",
      "366\n",
      "Give me a year number: 1999\n",
      "365\n",
      "Give me a year number: 0\n",
      "Invalid input\n",
      "Give me a year number: -111\n",
      "Invalid input\n"
     ]
    }
   ],
   "source": [
    "def checkdays(year):\n",
    "    # ...\n",
    "    if year <=0 :\n",
    "        print(\"Invalid input\")\n",
    "    elif (year % 4) == 0 and (year % 100) != 0 or (year % 400) == 0:\n",
    "        print(366)\n",
    "    else:\n",
    "        print(365)\n",
    "    \n",
    "# implement your logic\n",
    "while(1):  \n",
    "    year= int(input(\"Give me a year number: \"))\n",
    "    checkdays(year)\n",
    "#checkdays(2020)"
   ]
  },
  {
   "cell_type": "markdown",
   "metadata": {},
   "source": [
    "# Question 3 (25%)\n",
    "* Given a grade table in a Dictionary structure. \n",
    "  * Write a function to return the highest score, the lowest score, average score.\n",
    "  * Write a function to generate a dictionary that uses 'class' as key and 'name' as values, e.g., {'one':'Alice, Bob, ...'}\n",
    "  * Write the newly generated dictionary into a file \"data.json\" in [JSON format](https://stackabuse.com/reading-and-writing-json-to-a-file-in-python/)."
   ]
  },
  {
   "cell_type": "code",
   "execution_count": 2,
   "metadata": {},
   "outputs": [
    {
     "name": "stdout",
     "output_type": "stream",
     "text": [
      "(95, 80, 89.16666666666667)\n",
      "{'one': 'Alice,Cindy,Frank', 'two': 'Bob,Daniel,Elisa'}\n"
     ]
    }
   ],
   "source": [
    "import json\n",
    "\n",
    "grades = [\n",
    "    {'name': 'Alice', 'class': 'one', 'score': 85},\n",
    "    {'name': 'Bob', 'class': 'two', 'score': 95},\n",
    "    {'name': 'Cindy', 'class': 'one', 'score': 90},\n",
    "    {'name': 'Daniel', 'class': 'two', 'score': 90},\n",
    "    {'name': 'Elisa', 'class': 'two', 'score': 80},\n",
    "    {'name': 'Frank', 'class': 'one', 'score': 95}\n",
    "]\n",
    "\n",
    "def stat(grades):\n",
    "    highest=lowest=temp=grades[0]['score']\n",
    "    sum=num=0\n",
    "    for i in grades:\n",
    "        sum+=i['score']\n",
    "        num+=1\n",
    "        if highest<i['score']:\n",
    "            highest=i['score']\n",
    "        if  i['score']<lowest:\n",
    "            lowest=i['score']\n",
    "    average=sum/num   \n",
    "    return highest, lowest, average\n",
    "\n",
    "def generate(grades):\n",
    "    str=\"\"\n",
    "    classone=[]\n",
    "    classtwo=[]\n",
    "    for i in grades:\n",
    "        if i['class']=='one':\n",
    "            classone.append(i['name'])\n",
    "        if i['class']=='two':\n",
    "            classtwo.append(i['name'])\n",
    "    str1=\",\".join(classone)\n",
    "    str2=\",\".join(classtwo)\n",
    "    classes={}\n",
    "    classes['two']=str2\n",
    "    classes['one']=str1\n",
    "    return classes\n",
    "\n",
    "# implement your logic here\n",
    "print(stat(grades))\n",
    "classes=generate(grades)\n",
    "# write file in JSON format\n",
    "with open('data.json', 'w') as outfile:\n",
    "    json.dump(classes, outfile)\n",
    "with open('data.json') as json_file:\n",
    "    data = json.load(json_file)\n",
    "    print(data)\n",
    "    # implement your logic here\n",
    "    # e.g., json.dump(data, outfile)"
   ]
  },
  {
   "cell_type": "markdown",
   "metadata": {},
   "source": [
    "# Question 4 (30%)\n",
    "Given a List L where the data are extracted from a CSV file \"Salaries.csv\", your task is to answer the following questions\n",
    "1. Finding the highest \"Total Pay with Benefits\" Employee whose Job Title is 'TRANSIT SUPERVISOR'.\n",
    "2. Finding the highest \"Total Pay\" Employee whose Job Title contains 'fire dept'. Hints: you may need to learn how to use [find](https://www.geeksforgeeks.org/string-find-python/) in Python.\n",
    "3. Finding the top-5 highest \"Total Pay\" Employee whose job status is PT."
   ]
  },
  {
   "cell_type": "code",
   "execution_count": 6,
   "metadata": {},
   "outputs": [
    {
     "name": "stdout",
     "output_type": "stream",
     "text": [
      "['EDWARD THOMPSON', 'TRANSIT SUPERVISOR', '92937.6', '972.36', '4641.63', '', '2011', '']\n",
      "['KEVIN KRAMER', 'FIREFIGHTER', '99942.29', '12162.48', '16960.14', '', '2011', '']\n",
      "[['Margaret S Hutchison', 'Nurse Midwife', '9999.59', '0', '0', '0', '2014', 'PT'], ['Jessica A Affolter', 'Clerk', '9998.6', '0', '0', '5825.57', '2014', 'PT'], ['James H Neal', 'Public Svc Aide-Public Works', '9997.15', '0', '321.07', '103.18', '2014', 'PT'], ['Douglas R Price-Hanson', 'Senior Physician Specialist', '99968.97', '0', '6843.55', '22257.44', '2014', 'PT'], ['Kevin P Kollo', 'Police Officer 3', '99958', '9454.3', '9916.41', '34876.75', '2014', 'PT']]\n"
     ]
    }
   ],
   "source": [
    "import csv\n",
    "import itertools\n",
    "import heapq\n",
    "\n",
    "with open('sf-salaries/Salaries.csv', mode='r') as csv_file:\n",
    "    csv_reader = csv.DictReader(csv_file)\n",
    "    L=[]\n",
    "    for row in csv_reader:\n",
    "        L.append([row[\"EmployeeName\"],row[\"JobTitle\"],row[\"BasePay\"],row[\"OvertimePay\"],row[\"OtherPay\"],row[\"Benefits\"],row[\"Year\"],row[\"Status\"]])\n",
    "        \n",
    "   # print(L[23]) # this will print the 23rd record of the csv file\n",
    "    \n",
    "#Actually there is a Total Pay in csv,it would be helpful if we can use it. And the\"fire dept\"is not in all job title,I change it to 'FIRE'  \n",
    "# implement your answer 1 here\n",
    "\n",
    "    L1=[]\n",
    "    for i in L:\n",
    "        if i[1]== 'TRANSIT SUPERVISOR' :\n",
    "            L1.append(i)\n",
    "    print(max(L1,key=lambda x:x[2]+x[3]+x[4]))\n",
    "\n",
    "# implement your answer 2 here\n",
    "    L2=[]\n",
    "    for i in L:\n",
    "        if i[1].find('FIRE')!=-1:\n",
    "            L2.append(i)\n",
    "    print(max(L2,key=lambda x:x[2]+x[3]+x[4]))     \n",
    "# implement your answer 3 here\n",
    "    L3=[]\n",
    "    for i in L:\n",
    "        if i[7]=='PT':\n",
    "            L3.append(i)\n",
    "    print(heapq.nlargest(5,L3,key=lambda x:x[2]+x[3]+x[4]))  "
   ]
  },
  {
   "cell_type": "markdown",
   "metadata": {},
   "source": [
    "# Bonus Question (+10%)\n",
    "* Randomly generate a list of 10,000 random numbers in [0,100000)\n",
    "    * e.g., L = [1, 10, 2, 3, 7, 8, 13, 21, 34, 66, 14, ...]\n",
    "* Write a program that print out all PRIME numbers in L\n",
    "* Check [Sieve of Eratosthenes](https://en.wikipedia.org/wiki/Sieve_of_Eratosthenes)"
   ]
  },
  {
   "cell_type": "code",
   "execution_count": 8,
   "metadata": {},
   "outputs": [
    {
     "name": "stdout",
     "output_type": "stream",
     "text": [
      "[40961, 10243, 51203, 18443, 77839, 75793, 55313, 10259, 47123, 36887, 73751, 77849, 61463, 65563, 73757, 51229, 4129, 32803, 96293, 2087, 63527, 49193, 59441, 81973, 26681, 69691, 4157, 10301, 18493, 51263, 36929, 53309, 61507, 32839, 8263, 73, 92233, 77899, 53323, 28751, 20563, 24659, 6229, 47189, 82007, 84053, 89, 82009, 22619, 67679, 73823, 65633, 16481, 8293, 79973, 12391, 107, 51307, 22637, 82037, 59509, 73847, 18553, 84089, 34939, 4219, 86137, 28793, 71807, 69761, 2179, 34949, 30853, 98443, 37003, 51341, 12437, 80021, 22679, 14489, 82073, 18587, 26777, 67741, 10399, 75937, 16547, 98473, 41131, 22699, 55469, 94379, 96431, 8369, 16561, 49333, 78007, 51383, 39097, 12473, 63671, 92353, 39107, 80071, 14537, 32971, 12497, 63697, 49363, 84179, 10453, 47317, 69847, 6359, 6367, 65761, 2273, 8419, 92387, 18661, 28901, 53479, 94439, 73961, 45289, 63719, 26861, 63727, 84211, 2293, 67829, 20731, 35069, 71933, 41213, 63743, 33029, 2309, 51461, 41227, 26891, 20749, 6421, 26903, 59671, 12569, 86297, 283, 71963, 63773, 90401, 4391, 53549, 82223, 41269, 43319, 49463, 71993, 18743, 74047, 8513, 76099, 4421, 65867, 98639, 37199, 8527, 80207, 39251, 80209, 94543, 94547, 31063, 2393, 53593, 88411, 84317, 29021, 63839, 37217, 78179, 10597, 16741, 37223, 18793, 90481, 55667, 74101, 57719, 63863, 14713, 49531, 43391, 70019, 14723, 57731, 51593, 86413, 78229, 14741, 53657, 2459, 14747, 90523, 24989, 90527, 59809, 2467, 4517, 86441, 47533, 39343, 43441, 12721, 33203, 35251, 84401, 22961, 68023, 84407, 31159, 49597, 10687, 8641, 74177, 35267, 65993, 51659, 20939, 25037, 31183, 57809, 467, 74197, 80341, 90583, 31189, 37339, 49627, 78301, 479, 51679, 72161, 20959, 4583, 92647, 63977, 2539, 80363, 37357, 10733, 47599, 84463, 45553, 55787, 16883, 61933, 45557, 98809, 90617, 90619, 35327, 66047, 25087, 31237, 8713, 12809, 78347, 90641, 66067, 43541, 59929, 88607, 90659, 74279, 4651, 45613, 57901, 37423, 6703, 92723, 6709, 74293, 569, 94781, 35393, 16963, 88643, 21061, 94789, 84551, 53831, 90703, 98897, 49747, 2647, 80471, 55897, 4703, 70241, 21089, 2659, 8803, 12899, 78437, 14947, 23143, 619, 45677, 66161, 37489, 10867, 60017, 39541, 68219, 12923, 49789, 8831, 92801, 66179, 10883, 60037, 43661, 25229, 70289, 17041, 10903, 78487, 80537, 84631, 41627, 31387, 51869, 96931, 15017, 66221, 19121, 62129, 78517, 8887, 80567, 51899, 49853, 62141, 43711, 35521, 4801, 84673, 51907, 82633, 33487, 2767, 4817, 13007, 17107, 96979, 19157, 41687, 88793, 64217, 8923, 76507, 47837, 82651, 19163, 60127, 739, 2791, 53993, 70379, 23279, 10993, 88817, 88819, 29429, 39671, 97021, 21247, 78593, 43781, 4871, 17159, 4877, 92941, 27409, 11027, 72469, 43801, 797, 25373, 41759, 80671, 35617, 82721, 54049, 56099, 19237, 31517, 47911, 82729, 811, 66347, 90931, 86837, 76603, 56123, 29501, 56131, 90947, 49991, 99149, 6991, 97103, 9041, 31573, 4957, 62303, 29537, 58211, 74597, 7019, 33647, 15217, 74611, 62323, 58229, 31607, 21377, 19333, 60293, 29573, 907, 17291, 911, 33679, 9103, 21391, 64399, 54167, 91033, 43933, 60317, 15263, 30713, 31649, 11171, 97187, 54181, 11177, 941, 70573, 72623, 13229, 33713, 15277, 50093, 17327, 84913, 89009, 41911, 31667, 52153, 5051, 78779, 70589, 5059, 78787, 46021, 52163, 78791, 54217, 74699, 15307, 93131, 15313, 80849, 983, 62423, 48091, 9181, 991, 72671, 76771, 87011, 66533, 19429, 52201, 21481, 25583, 13309, 54269, 89087, 91139, 91141, 27653, 23561, 15373, 19469, 41999, 93199, 39953, 11287, 17431, 21529, 97303, 44059, 52253, 5153, 3109, 56359, 99371, 89137, 19507, 39989, 25657, 91193, 42043, 17467, 7229, 37951, 33857, 93251, 1093, 99397, 78919, 56393, 23627, 60493, 33871, 44111, 21587, 27733, 5209, 44123, 97373, 3167, 19553, 40037, 91237, 25703, 5227, 76907, 37997, 17519, 87151, 83059, 31859, 56437, 91253, 27779, 52361, 33931, 87181, 89231, 33937, 74897, 42131, 13457, 5273, 48281, 40093, 50333, 52387, 54437, 27817, 54443, 83117, 74929, 66739, 3253, 64693, 97463, 89273, 46271, 21701, 93383, 7369, 60617, 11467, 81101, 56527, 48337, 21713, 58579, 48341, 31957, 79063, 89303, 87257, 11483, 70877, 46301, 99551, 29917, 97501, 36067, 5347, 46309, 36073, 40169, 27883, 44269, 19697, 7411, 85237, 27893, 50423, 17657, 87293, 85247, 15619, 87299, 38149, 81157, 1289, 70921, 97547, 46349, 1301, 1303, 93463, 50459, 87323, 89371, 15649, 5413, 52517, 36137, 42283, 79147, 27947, 64811, 97583, 15667, 68917, 15671, 54583, 38201, 21817, 7487, 91459, 75079, 23879, 17737, 99661, 97613, 85331, 85333, 23893, 48473, 54617, 1373, 38237, 99679, 42337, 11617, 73061, 73063, 64871, 19819, 7537, 28019, 15733, 17783, 60793, 64891, 5501, 7549, 79229, 17791, 52609, 19843, 87427, 99721, 48523, 58763, 32143, 54673, 71059, 23957, 7577, 75161, 38299, 13723, 79259, 1447, 36263, 7591, 42407, 50599, 32173, 17839, 9649, 7603, 48563, 83383, 75193, 23993, 46523, 26041, 1471, 85439, 15809, 7621, 81353, 19913, 36299, 9677, 28111, 62927, 75217, 52691, 44501, 5591, 52697, 60889, 42461, 11743, 54751, 99809, 17891, 71153, 52721, 83443, 60913, 99829, 36343, 38393, 34297, 81409, 69127, 24071, 77323, 85517, 5651, 50707, 22037, 24083, 5657, 1567, 36383, 60961, 7717, 3623, 91691, 54829, 1583, 97841, 5683, 3637, 50741, 89653, 3643, 91711, 34369, 54851, 52807, 26183, 73291, 22091, 1613, 65101, 44623, 9811, 73303, 75353, 87643, 46687, 26209, 58979, 61027, 38501, 15973, 61031, 32359, 5737, 91753, 3691, 44651, 32363, 58991, 30319, 93809, 95857, 73331, 24179, 3701, 5749, 28277, 63097, 26237, 63103, 3719, 40583, 13963, 48779, 26251, 67217, 42641, 73363, 52883, 89753, 46747, 1693, 18077, 5791, 89759, 40609, 50849, 91807, 52901, 5801, 73387, 75437, 13999, 50867, 42677, 48821, 48823, 14011, 87739, 24251, 42689, 54979, 69317, 7879, 14029, 48847, 85711, 26321, 87767, 65239, 1753, 48857, 71387, 46811, 79579, 44771, 46819, 79589, 28387, 36583, 22247, 65257, 50923, 63211, 81647, 50929, 59123, 57077, 89849, 44797, 73471, 77573, 46853, 91909, 20233, 98057, 81677, 93967, 63247, 12049, 79633, 1811, 26387, 10009, 53017, 34589, 30497, 5923, 18211, 44839, 42793, 73517, 18223, 3889, 44851, 77621, 18229, 71479, 51001, 83773, 59197, 36671, 12097, 16193, 85831, 3919, 44879, 67409, 94033, 79699, 59219, 1877, 34649, 30553, 65371, 30559, 53093, 69481, 92009, 89963, 94063, 1907, 40819, 77687, 53113, 20347, 3967, 71551, 83843, 49031, 8081, 77713, 18329, 87961, 57241, 96157, 63391, 98207, 90019, 96167, 53161, 67499, 14251, 85933, 61357, 32687, 6067, 61363, 30643, 40897, 10177, 88003, 57287, 1993, 32713, 92107, 10193, 8147, 79829, 42967, 92119, 67559, 4073, 90089, 16363, 61417, 12269, 81901, 4079, 10223, 16369, 32749, 49139, 77813, 14327, 36857, 90107, 75773, 20479]\n"
     ]
    }
   ],
   "source": [
    "import random\n",
    "import math\n",
    "L=random.sample(range(0,100000),10000)\n",
    "L.sort()\n",
    "templist=[]\n",
    "for i in range(2,L[-1]+1):\n",
    "    templist.append(i)\n",
    "# basic idea\n",
    "PRIMES=[]\n",
    "#this fuction judge the number is prime or not\n",
    "def is_prime(n):\n",
    "    if n==0 or n == 1:\n",
    "        return False\n",
    "    for i in range(2, int(math.sqrt(n))+1):\n",
    "        if n % i == 0:\n",
    "            return False\n",
    "    return True\n",
    "#this fuction get the first prime\n",
    "def get_first_prime(array):\n",
    "    for i in array:\n",
    "        if is_prime(i):\n",
    "            return array\n",
    "        else:\n",
    "            array.remove(i)\n",
    "#this fuction represent the divided process\n",
    "def divided(array):\n",
    "    leftlist = []\n",
    "    for i in range(0, len(array)):\n",
    "        if i !=0:\n",
    "            if array[i] % array[0] != 0:\n",
    "                leftlist.append(array[i])\n",
    "    return leftlist, array[0]\n",
    "\n",
    "leftlist=get_first_prime(templist)\n",
    "while (len(leftlist) != 0): \n",
    "    if leftlist[-1] <= leftlist[0]**2 :\n",
    "        for i in leftlist:\n",
    "            PRIMES.append(i)\n",
    "        break\n",
    "    leftlist, prime = divided(leftlist)\n",
    "    PRIMES.append(prime)\n",
    "    leftlist=get_first_prime(leftlist)\n",
    "#print(PRIMES)\n",
    "print (list(set(PRIMES).intersection(set(L))))\n",
    "        # It could be shorter......if i have time .........  and it is according to your requirement ,you can just print(PRIMES)and see \n",
    "        #the primes start from 2,3,5.........."
   ]
  },
  {
   "cell_type": "code",
   "execution_count": null,
   "metadata": {
    "collapsed": true
   },
   "outputs": [],
   "source": []
  }
 ],
 "metadata": {
  "kernelspec": {
   "display_name": "Python 3",
   "language": "python",
   "name": "python3"
  },
  "language_info": {
   "codemirror_mode": {
    "name": "ipython",
    "version": 3
   },
   "file_extension": ".py",
   "mimetype": "text/x-python",
   "name": "python",
   "nbconvert_exporter": "python",
   "pygments_lexer": "ipython3",
   "version": "3.5.4"
  }
 },
 "nbformat": 4,
 "nbformat_minor": 2
}
