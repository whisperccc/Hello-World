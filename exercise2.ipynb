{
 "cells": [
  {
   "cell_type": "code",
   "execution_count": 4,
   "metadata": {},
   "outputs": [
    {
     "name": "stdout",
     "output_type": "stream",
     "text": [
      "please input a number: 4\n",
      "4 is a multiple of 4\n"
     ]
    }
   ],
   "source": [
    "num = int(input(\"please input a number: \"))\n",
    "if (num % 2) == 0:\n",
    "   if(num%4) == 0:\n",
    "    print(\"{} is a multiple of 4\".format(num))\n",
    "   else:\n",
    "    print(\"{} is even\".format(num))\n",
    "else:\n",
    "   print(\"{} is odd\".format(num))\n",
    "   "
   ]
  },
  {
   "cell_type": "code",
   "execution_count": 5,
   "metadata": {},
   "outputs": [
    {
     "name": "stdout",
     "output_type": "stream",
     "text": [
      "please input a number: 8\n",
      "8 divides evenly into 4\n"
     ]
    }
   ],
   "source": [
    "check = int (input(\"please input a number: \"))\n",
    "if(check % num )== 0:\n",
    "    print(\"{} divides evenly into {}\".format(check,num))\n",
    "else:\n",
    "    print(\"{} can't divides evenly into {}\".format(check,num))"
   ]
  },
  {
   "cell_type": "code",
   "execution_count": null,
   "metadata": {
    "collapsed": true
   },
   "outputs": [],
   "source": []
  }
 ],
 "metadata": {
  "kernelspec": {
   "display_name": "Python 3",
   "language": "python",
   "name": "python3"
  },
  "language_info": {
   "codemirror_mode": {
    "name": "ipython",
    "version": 3
   },
   "file_extension": ".py",
   "mimetype": "text/x-python",
   "name": "python",
   "nbconvert_exporter": "python",
   "pygments_lexer": "ipython3",
   "version": "3.5.4"
  }
 },
 "nbformat": 4,
 "nbformat_minor": 2
}
